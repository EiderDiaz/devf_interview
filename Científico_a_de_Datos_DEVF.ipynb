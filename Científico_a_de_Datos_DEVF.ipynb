{
  "nbformat": 4,
  "nbformat_minor": 2,
  "metadata": {
    "colab": {
      "name": "Científico/a de Datos @ DEVF.ipynb",
      "provenance": []
    },
    "kernelspec": {
      "name": "python3",
      "display_name": "Python 3.9.7 64-bit"
    },
    "language_info": {
      "name": "python",
      "version": "3.9.7",
      "mimetype": "text/x-python",
      "codemirror_mode": {
        "name": "ipython",
        "version": 3
      },
      "pygments_lexer": "ipython3",
      "nbconvert_exporter": "python",
      "file_extension": ".py"
    },
    "interpreter": {
      "hash": "6726af48e2a0ee5cd4f9d51bb7ddccc7802c42f302d2499986e0f30ff11ec765"
    }
  },
  "cells": [
    {
      "cell_type": "markdown",
      "source": [
        "# Tabla de contenidos\r\n",
        "\r\n",
        "\r\n",
        "\r\n",
        "* [1. Introducción](#1)\r\n",
        "\r\n",
        "* [2. Understanding](#2)\r\n",
        "  * [2.1 ¿En qué consiste el proyecto?](#2.1)\r\n",
        "  * [2.2 Plan preliminar del proyecto](#2.2)\r\n",
        "  \r\n",
        " \r\n",
        "\r\n",
        "* [3 Data understanding](#3)\r\n",
        " * [3.1 3.1 Diccionario de datos ](#3.1)\r\n",
        "  * [3.2 sub](#3.2)\r\n",
        "  * [3.3 sub](#3.3)\r\n",
        "    * [3.3.1 subsub](#3.3)\r\n",
        "    * [3.3.2 subsub](#3.3)\r\n",
        "    * [3.3.3 subsub](#3.3)\r\n",
        "\r\n",
        "\r\n",
        "  "
      ],
      "metadata": {
        "id": "s7-vUWCu1lzH"
      }
    },
    {
      "cell_type": "markdown",
      "source": [
        "<a id=\"1\"></a>\r\n",
        "\r\n",
        "# 1. Introducción\r\n",
        "<p>El proceso estándar entre industrias para la minería de datos, conocido como <b> CRISP-DM </b> (Cross-industry standard process for data mining), es un modelo de proceso estándar abierto que describe enfoques comunes utilizados por expertos en minería de datos o ciencia de datos. Es el modelo de análisis más utilizado en la industria.</p>\r\n",
        "\r\n",
        " <p> En escencia, <b> CRISP DM </b> es un set de buenas practicas para ayudar a planear, organizar y ejecutar projectos de data mining or data analytics  </p>\r\n",
        " \r\n",
        " <p>El análisis presentado a continuación se realizó siguiendo las líneas de <b> CRISP DM</b> </p>\r\n",
        "\r\n",
        "\r\n",
        "<center> <p><img class = \"center\" src=\"https://upload.wikimedia.org/wikipedia/commons/thumb/b/b9/CRISP-DM_Process_Diagram.png/319px-CRISP-DM_Process_Diagram.png\" width=\"400\" height=\"400 alt=\"CRISP-DM\"></p> </center>"
      ],
      "metadata": {
        "id": "uiOs0yD_zkul"
      }
    },
    {
      "cell_type": "markdown",
      "source": [
        "<a id=\"2\"></a>\r\n",
        "\r\n",
        "# 2. Business Understanding\r\n",
        "\r\n",
        "Antes de ejercutar algun analisis, o tirar alguna linea de codigo lo primero es entender el problema en si. En la primera fase ( Business Understanding) se identifica los siguientes puntos:\r\n",
        "\r\n",
        "- Identificar los requerimentos\r\n",
        "- Evaluar la situación\r\n",
        "- Producir un plan preeliminar de proyecto\r\n",
        "\r\n",
        "\r\n"
      ],
      "metadata": {
        "id": "8ZV-SNrV1LTl"
      }
    },
    {
      "cell_type": "markdown",
      "source": [
        "<a id=\"2.1\"></a>\r\n",
        "\r\n",
        "## 2.1 ¿En qué consiste el proyecto? \r\n",
        "\r\n",
        "*   Utilizando la base llamada \"e\" realizar un análisis descriptivo y exploratorio de la base de datos, encuentra y grafica cómo se distribuyen los visitantes, horas, días, etc... El análisis es libre, ¡sorpréndenos!\r\n",
        "\r\n",
        "*   Algo muy importante del dataset \"e\" es encontrar qué es lo que hace a un visitante y con ese hallazgo analizar el dataset \"v\"\r\n",
        "\r\n",
        "* El dataset \"v\" es idéntico al \"e\" SOLO EN COLUMNAS, los datos en las filas son\r\n",
        "diferentes y fungen como datos completamente nuevos para el modelo. En\r\n",
        "consecuencia, “v” no tiene etiquetado si el usuario es visitante o no. \r\n",
        "\r\n",
        "<del > Tu labor es añadirle la etiqueta de visitante (true/false) Por favor envíanos el csv con esta etiqueta.</del>\r\n",
        "\r\n",
        "<del > De igual manera envíanos los scripts que utilizaste para el análisis, comentando las acciones que realizaste para llegar al resultado.</del >\r\n",
        "<a id=\"2.2\"></a>\r\n",
        "\r\n",
        "## 2.2 Plan preliminar del proyecto\r\n",
        "\r\n",
        "La descripcion del proyecto nos indica que estamos contra un problema de clasificacion , en especifico un problema de clasificacion de la columna o variable **visitantes**, el plan preeliminar será hacer un EDA (Exploratory Data Analysis) simple, teniendo en cuenta que la columna a predecir es **visitantes**. "
      ],
      "metadata": {
        "id": "wlBl5SGN5BxX"
      }
    },
    {
      "cell_type": "markdown",
      "source": [
        "<a id=\"3\"></a>\r\n",
        "\r\n",
        "# 3. Data Understanding\r\n",
        "\r\n",
        "Una vez identificada los requerimentos y elavorado el plan preliminar procedemos a la description y exploracion de los datos, usalmente dentro del **CRSIP-DM** se abordan las siguientes directivas (muy similares a las que se tomaron en cuenta) :\r\n",
        "\r\n",
        "- Gather data\r\n",
        "- Describe data\r\n",
        "- Explore data\r\n",
        "- Verify data quality"
      ],
      "metadata": {
        "id": "2Jtb3e9x_OHK"
      }
    },
    {
      "cell_type": "markdown",
      "source": [
        "<a id=\"3.1\"></a>\r\n",
        "\r\n",
        "## 3.1 Diccionario de datos\r\n",
        "\r\n",
        "Dos sets de datos **\"e\"** y **\"v\"** fueron captados con algunos sensores de tecnología de tracking de la posición de celulares mediante señales de wifi. Los análisis que te pedimos nos ayudes a\r\n",
        "realizar son los siguientes:\r\n",
        "\r\n",
        "\r\n",
        "\r\n",
        "*   **Ambas bases cuentan con las siguientes variables:**\r\n",
        "\r\n",
        "\r\n",
        "    *   *device_mac\r\n",
        "    * *branch_office\r\n",
        "    * *month_tz\r\n",
        "    * *day_tz\r\n",
        "    * *day_of_week_tz\r\n",
        "    * *hour_tz\r\n",
        "    * *visitor\r\n",
        "    * *tiempodeses\r\n",
        "\r\n",
        "\r\n",
        "\r\n",
        "*   *device_mac*: se refiere al identificador único de un celular, cada célula asumimos es una persona \r\n",
        "\r\n",
        "*   *branch_office*: es la sucursal de cliente\r\n",
        "\r\n",
        "* *visitor*: es una variable indicadora donde **true** significa que es visitante del lugar y **false** que no\r\n",
        "\r\n",
        "* *tiempodeses*: es el tiempo de la sesión (en segundos)\r\n",
        "\r\n"
      ],
      "metadata": {
        "id": "IU2HrIj7zlu-"
      }
    },
    {
      "cell_type": "code",
      "execution_count": 55,
      "source": [
        "#cargamo las librerias\r\n",
        " # numpy and pandas for data manipulation\r\n",
        "import numpy as np\r\n",
        "import pandas as pd\r\n",
        "\r\n",
        "\r\n",
        "# matplotlib and seaborn for plotting\r\n",
        "import matplotlib.pyplot as plt\r\n",
        "import seaborn as sns\r\n",
        "from matplotlib.pylab import rcParams\r\n",
        "import seaborn as sns\r\n",
        "plt.style.use('fivethirtyeight')\r\n",
        "import warnings\r\n",
        "warnings.filterwarnings('ignore')\r\n",
        "%matplotlib inline\r\n",
        "\r\n",
        "\r\n",
        "import datetime"
      ],
      "outputs": [],
      "metadata": {
        "id": "AMSqwpxYu-Yi"
      }
    },
    {
      "cell_type": "code",
      "execution_count": 11,
      "source": [
        "#read dataset into pandas dataframe\r\n",
        "e_df = pd.read_csv(\"klustera/e.csv\")\r\n",
        "v_df = pd.read_csv(\"klustera/v.csv\")\r\n",
        "#see the fisrt 10 rows of each dataset\r\n",
        "print(e_df.head())\r\n",
        "print(\"_____________________________________________________\")\r\n",
        "\r\n",
        "print(v_df.head())\r\n",
        "#drop the unnamed (index column)\r\n",
        "e_df.drop(columns=e_df.columns[0], \r\n",
        "        axis=1, \r\n",
        "        inplace=True)\r\n",
        "v_df.drop(columns=v_df.columns[0], \r\n",
        "        axis=1, \r\n",
        "        inplace=True)"
      ],
      "outputs": [
        {
          "output_type": "stream",
          "name": "stdout",
          "text": [
            "   Unnamed: 0         device_mac  branch_office  month_tz  day_tz  \\\n",
            "0           1  00:00:00:6a:17:ce              1        11       2   \n",
            "1           2  00:00:00:6a:17:ce              1        11       2   \n",
            "2           3  00:00:00:6a:78:ae              1        10      30   \n",
            "3           4  00:00:02:fa:9c:12              1        11      13   \n",
            "4           5  00:00:08:7d:e2:58              3        11       4   \n",
            "\n",
            "  day_of_week_tz  hour_tz  visitor  tiempodeses  \n",
            "0      Wednesday        0     True         2676  \n",
            "1      Wednesday        1     True         2676  \n",
            "2         Sunday       20    False            0  \n",
            "3         Sunday       12     True         2272  \n",
            "4         Friday       19    False            0  \n",
            "_____________________________________________________\n",
            "   Unnamed: 0         device_mac  branch_office  month_tz  day_tz  \\\n",
            "0           1  a8:81:95:56:31:3c              1        11      17   \n",
            "1           2  44:6e:e5:1b:68:81              3        11       3   \n",
            "2           3  0c:b3:19:10:78:17              3        11      12   \n",
            "3           4  44:74:6c:0a:20:23              3        11      27   \n",
            "4           5  ac:5f:3e:c8:dc:35              1        11      27   \n",
            "\n",
            "  day_of_week_tz  hour_tz  tiempodeses  \n",
            "0       Thursday        4            0  \n",
            "1       Thursday       22          477  \n",
            "2       Saturday       10            0  \n",
            "3         Sunday       21            0  \n",
            "4         Sunday       16            0  \n"
          ]
        }
      ],
      "metadata": {
        "colab": {
          "base_uri": "https://localhost:8080/"
        },
        "id": "UGDD6SSly4m4",
        "outputId": "57d66b0b-6540-43ab-ad0d-00036b3bf293"
      }
    },
    {
      "cell_type": "code",
      "execution_count": 12,
      "source": [
        "#exploremos mas a fondo cada dataframe:\r\n",
        "print(\"e_df:\")\r\n",
        "print(e_df.info())\r\n",
        "print(\"_________________________________________________\")\r\n",
        "print(\"v_df:\")\r\n",
        "print(v_df.info())"
      ],
      "outputs": [
        {
          "output_type": "stream",
          "name": "stdout",
          "text": [
            "e_df:\n",
            "<class 'pandas.core.frame.DataFrame'>\n",
            "RangeIndex: 249556 entries, 0 to 249555\n",
            "Data columns (total 8 columns):\n",
            " #   Column          Non-Null Count   Dtype \n",
            "---  ------          --------------   ----- \n",
            " 0   device_mac      249556 non-null  object\n",
            " 1   branch_office   249556 non-null  int64 \n",
            " 2   month_tz        249556 non-null  int64 \n",
            " 3   day_tz          249556 non-null  int64 \n",
            " 4   day_of_week_tz  249556 non-null  object\n",
            " 5   hour_tz         249556 non-null  int64 \n",
            " 6   visitor         249556 non-null  bool  \n",
            " 7   tiempodeses     249556 non-null  int64 \n",
            "dtypes: bool(1), int64(5), object(2)\n",
            "memory usage: 13.6+ MB\n",
            "None\n",
            "_________________________________________________\n",
            "v_df:\n",
            "<class 'pandas.core.frame.DataFrame'>\n",
            "RangeIndex: 90000 entries, 0 to 89999\n",
            "Data columns (total 7 columns):\n",
            " #   Column          Non-Null Count  Dtype \n",
            "---  ------          --------------  ----- \n",
            " 0   device_mac      90000 non-null  object\n",
            " 1   branch_office   90000 non-null  int64 \n",
            " 2   month_tz        90000 non-null  int64 \n",
            " 3   day_tz          90000 non-null  int64 \n",
            " 4   day_of_week_tz  90000 non-null  object\n",
            " 5   hour_tz         90000 non-null  int64 \n",
            " 6   tiempodeses     90000 non-null  int64 \n",
            "dtypes: int64(5), object(2)\n",
            "memory usage: 4.8+ MB\n",
            "None\n"
          ]
        }
      ],
      "metadata": {
        "colab": {
          "base_uri": "https://localhost:8080/"
        },
        "id": "7jQDF2MWyL_4",
        "outputId": "0db02ac3-55da-4f8c-e20d-47924c888acc"
      }
    },
    {
      "cell_type": "markdown",
      "source": [
        "- la info mas detallada nos dice que e_df es un dataset de aprox 250K observaciones y 8 variables (249kx9)\r\n",
        "- y que v_df (90Kx7)   \r\n",
        "- el detalle nos indica que no hay datos faltantes en ninguno de los dos dataset :)\r\n",
        "\r\n",
        " con esta informacion procedemos a verificar la calidad de los dataframes y describir mas a fondo la distribucion de la feature **visitor**"
      ],
      "metadata": {}
    },
    {
      "cell_type": "code",
      "execution_count": 42,
      "source": [
        "\r\n",
        "\r\n",
        "#pie plot de visitor\r\n",
        "f,ax=plt.subplots(1,2,figsize=(16,6))\r\n",
        "e_df['visitor'].value_counts().plot.pie(explode=[0,0.1],\r\n",
        "                                        autopct='%1.1f%%',\r\n",
        "                                        ax=ax[0],\r\n",
        "                                        shadow=True)\r\n",
        "\r\n",
        "ax[0].set_title('Pie Chart of the Distribution on Visitor feature (e_df) ')\r\n",
        "ax[0].set_ylabel('')\r\n",
        "\r\n",
        "# histogram de visitor\r\n",
        "sns.countplot('visitor',\r\n",
        "              data=e_df,\r\n",
        "              ax=ax[1])\r\n",
        "ax[1].set_title('Hist. of the Distribution on Visitor feature (e_df)')\r\n",
        "#trick for display the count pretty\r\n",
        "for p in ax[1].patches:\r\n",
        "    ax[1].annotate(f'\\n{p.get_height()}', (p.get_x()+0.2, p.get_height()), ha='center', va='top', color='white', size=18)\r\n",
        "plt.show()\r\n"
      ],
      "outputs": [
        {
          "output_type": "display_data",
          "data": {
            "image/png": "[encoded data removed]",
            "text/plain": [
              "<Figure size 1152x432 with 2 Axes>"
            ]
          },
          "metadata": {
            "needs_background": "light"
          }
        }
      ],
      "metadata": {
        "colab": {
          "base_uri": "https://localhost:8080/",
          "height": 513
        },
        "id": "B14QIzoSF29d",
        "outputId": "4b2778a0-6f5f-44ec-dc41-511be62aa7ab"
      }
    },
    {
      "cell_type": "markdown",
      "source": [
        "una vez descrito la variable principal veamos la relacion general entre todas las variables con un correlation heatmap"
      ],
      "metadata": {}
    },
    {
      "cell_type": "code",
      "execution_count": 45,
      "source": [
        "e_df_corrs = round(e_df.corr(),1)\r\n",
        "plt.figure(figsize = (12, 6))\r\n",
        "# Heatmap of correlations\r\n",
        "sns.heatmap(e_df_corrs, cmap = plt.cm.RdYlBu_r, annot=True)\r\n",
        "plt.title('Correlation Heatmap e_df');"
      ],
      "outputs": [
        {
          "output_type": "display_data",
          "data": {
            "image/png": "[encoded data removed]",
            "text/plain": [
              "<Figure size 864x432 with 2 Axes>"
            ]
          },
          "metadata": {
            "needs_background": "light"
          }
        }
      ],
      "metadata": {}
    },
    {
      "cell_type": "markdown",
      "source": [
        "a este punto surge algo interesante, y es que el tiempo se sesion tiene una correlacion (mas o menos) , significativa con visitor, y es un buen punto de partida"
      ],
      "metadata": {}
    },
    {
      "cell_type": "code",
      "execution_count": 46,
      "source": [
        "v_df_corrs = round(v_df.corr(),1)\r\n",
        "plt.figure(figsize = (12, 6))\r\n",
        "# Heatmap of correlations\r\n",
        "sns.heatmap(v_df_corrs, cmap = plt.cm.RdYlBu_r, annot=True)\r\n",
        "plt.title('Correlation Heatmap v_df');"
      ],
      "outputs": [
        {
          "output_type": "display_data",
          "data": {
            "image/png": "[encoded data removed]",
            "text/plain": [
              "<Figure size 864x432 with 2 Axes>"
            ]
          },
          "metadata": {
            "needs_background": "light"
          }
        }
      ],
      "metadata": {}
    },
    {
      "cell_type": "markdown",
      "source": [
        "solo para verificar que tienen las mismas corelaciones, hacemos lo mismo en el v_df\r\n",
        "- tambien a este punto, me di cuenta de que es momento de convertir las variables de de **month_tz** y **day_tz** a datetime y comenzar a atacar este problema como un Time Series Analysis (TSA) \r\n",
        "\r\n",
        "- como tengo **day_of_week_tz** , **month_tz** y **day_tz** puedo deducir el año y manejar los datos mas facil, con sus propias funciones de datetime"
      ],
      "metadata": {}
    },
    {
      "cell_type": "code",
      "execution_count": 80,
      "source": [
        "#function to get the year based on the  **month_tz** , **day_tz**  and **day_of_week_tz**\r\n",
        "def get_year_from_df(df):\r\n",
        "    year_not_found = True \r\n",
        "    year = 2021\r\n",
        "    while year_not_found:\r\n",
        "        #cast dataframe tz values to datetime \r\n",
        "        curr_date_df = pd.to_datetime(e_df.apply(lambda x: datetime.date(year, x['month_tz'], x['day_tz']), axis=1))\r\n",
        "        # si todos los day_of_week_tz son iguales a los nombres de los dias del curr_date_df\r\n",
        "        if sum( df[\"day_of_week_tz\"].eq( curr_date_df.dt.day_name())) == df.shape[0]:\r\n",
        "            return year\r\n",
        "        else:\r\n",
        "            print(\"not equal on year:\",year)\r\n",
        "            year = year -1 \r\n",
        "\r\n",
        "\r\n",
        "\r\n",
        "print(\"year found: \",get_year_from_df(e_df))\r\n",
        "\r\n"
      ],
      "outputs": [
        {
          "output_type": "stream",
          "name": "stdout",
          "text": [
            "not equal on year: 2021\n",
            "not equal on year: 2020\n",
            "not equal on year: 2019\n",
            "not equal on year: 2018\n",
            "not equal on year: 2017\n",
            "2016\n"
          ]
        }
      ],
      "metadata": {}
    },
    {
      "cell_type": "markdown",
      "source": [
        "ahora que ya sabemos el año en el que fueron capturados los datos fue **2016**, procedemos a convertirlos a formato date "
      ],
      "metadata": {}
    },
    {
      "cell_type": "code",
      "execution_count": 81,
      "source": [
        "e_df[\"date\"] = pd.to_datetime(e_df.apply(lambda x: datetime.date(2016, x['month_tz'], x['day_tz']), axis=1))\r\n",
        "e_df[\"date\"]\r\n"
      ],
      "outputs": [
        {
          "output_type": "execute_result",
          "data": {
            "text/plain": [
              "0        2016-11-02\n",
              "1        2016-11-02\n",
              "2        2016-10-30\n",
              "3        2016-11-13\n",
              "4        2016-11-04\n",
              "            ...    \n",
              "249551   2016-11-30\n",
              "249552   2016-11-30\n",
              "249553   2016-11-30\n",
              "249554   2016-11-30\n",
              "249555   2016-11-30\n",
              "Name: date, Length: 249556, dtype: datetime64[ns]"
            ]
          },
          "metadata": {},
          "execution_count": 81
        }
      ],
      "metadata": {}
    }
  ]
}